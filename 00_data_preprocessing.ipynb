{
  "nbformat": 4,
  "nbformat_minor": 0,
  "metadata": {
    "colab": {
      "provenance": []
    },
    "kernelspec": {
      "name": "python3",
      "display_name": "Python 3"
    },
    "language_info": {
      "name": "python"
    }
  },
  "cells": [
    {
      "cell_type": "markdown",
      "source": [
        "As the original dataset is not publicly available, please employ your data as appropriate when working with this code."
      ],
      "metadata": {
        "id": "gnRYAqyUDCSj"
      }
    },
    {
      "cell_type": "code",
      "source": [
        "import pandas as pd"
      ],
      "metadata": {
        "id": "OBjULLIcdqOl"
      },
      "execution_count": 21,
      "outputs": []
    },
    {
      "cell_type": "code",
      "source": [
        "data_path = 'data/your_own_data.csv'\n",
        "df = pd.read_csv(data_path)"
      ],
      "metadata": {
        "id": "eHzURS-rkM5f"
      },
      "execution_count": 33,
      "outputs": []
    },
    {
      "cell_type": "code",
      "source": [
        "print(\"variable names:\")\n",
        "print(df.columns.tolist())"
      ],
      "metadata": {
        "colab": {
          "base_uri": "https://localhost:8080/"
        },
        "id": "3d8l6XeBylvP",
        "outputId": "9c3529e0-247d-48f7-bbae-fe437a86c8b0"
      },
      "execution_count": 23,
      "outputs": [
        {
          "output_type": "stream",
          "name": "stdout",
          "text": [
            "variable names:\n",
            "['ID', 'Diagnosis', 'Age', 'Alb', 'eGFR', 'T-chol', 'IgG', 'C3', 'UP/day', 'Urine RBC']\n"
          ]
        }
      ]
    },
    {
      "cell_type": "code",
      "source": [
        "df.shape"
      ],
      "metadata": {
        "colab": {
          "base_uri": "https://localhost:8080/"
        },
        "id": "_rfVGSxXEyUE",
        "outputId": "f2683c79-dac3-46fd-c62c-12b6b6a23f1f"
      },
      "execution_count": 24,
      "outputs": [
        {
          "output_type": "execute_result",
          "data": {
            "text/plain": [
              "(248, 10)"
            ]
          },
          "metadata": {},
          "execution_count": 24
        }
      ]
    },
    {
      "cell_type": "code",
      "source": [
        "missing_data = df.isnull().sum()\n",
        "missing_percentage = (missing_data / len(df)) * 100\n",
        "missing_info = pd.DataFrame({'Number of missing values': missing_data, 'Percentage (%)': missing_percentage})\n",
        "print(\"Number and percentage of missing values for each variable:\")\n",
        "print(missing_info)"
      ],
      "metadata": {
        "colab": {
          "base_uri": "https://localhost:8080/"
        },
        "id": "9pVvLFiyyltV",
        "outputId": "73fba0c8-6337-4f95-d50c-0b3c2c31544d"
      },
      "execution_count": 25,
      "outputs": [
        {
          "output_type": "stream",
          "name": "stdout",
          "text": [
            "Number and percentage of missing values for each variable:\n",
            "           Number of missing values  Percentage (%)\n",
            "ID                                0        0.000000\n",
            "Diagnosis                         0        0.000000\n",
            "Age                               0        0.000000\n",
            "Alb                              11        4.435484\n",
            "eGFR                              0        0.000000\n",
            "T-chol                           20        8.064516\n",
            "IgG                              12        4.838710\n",
            "C3                               19        7.661290\n",
            "UP/day                           41       16.532258\n",
            "Urine RBC                         0        0.000000\n"
          ]
        }
      ]
    },
    {
      "cell_type": "code",
      "source": [
        "from sklearn.experimental import enable_iterative_imputer\n",
        "from sklearn.impute import IterativeImputer\n",
        "\n",
        "columns_to_keep = [\n",
        "    'Age',  'Alb', 'eGFR', 'T-chol', 'IgG',\n",
        "    'C3', 'UP/day', 'Urine RBC'\n",
        "]\n",
        "filtered_df = df[columns_to_keep]\n",
        "\n",
        "imputer = IterativeImputer(max_iter=10, random_state=0)\n",
        "\n",
        "filtered_df = imputer.fit_transform(filtered_df)\n",
        "\n",
        "imputed_df = pd.DataFrame(filtered_df, columns=columns_to_keep)"
      ],
      "metadata": {
        "id": "1kR9CvXrQ8sJ"
      },
      "execution_count": 26,
      "outputs": []
    },
    {
      "cell_type": "code",
      "source": [
        "imputed_df.shape"
      ],
      "metadata": {
        "colab": {
          "base_uri": "https://localhost:8080/"
        },
        "id": "bMsLQS0SsEIo",
        "outputId": "ff1a0eb4-4395-43f9-9560-07107c79b5a4"
      },
      "execution_count": 27,
      "outputs": [
        {
          "output_type": "execute_result",
          "data": {
            "text/plain": [
              "(248, 8)"
            ]
          },
          "metadata": {},
          "execution_count": 27
        }
      ]
    },
    {
      "cell_type": "code",
      "source": [
        "missing_data = imputed_df.isnull().sum()\n",
        "missing_percentage = (missing_data / len(imputed_df)) * 100\n",
        "missing_info = pd.DataFrame({'Number of missing values': missing_data, 'Percentage (%)': missing_percentage})\n",
        "print(\"Number and percentage of missing values for each variable:\")\n",
        "print(missing_info)"
      ],
      "metadata": {
        "colab": {
          "base_uri": "https://localhost:8080/"
        },
        "id": "C7dqdaqTrcEE",
        "outputId": "5204959a-3445-4398-98e7-cf1015d98287"
      },
      "execution_count": 28,
      "outputs": [
        {
          "output_type": "stream",
          "name": "stdout",
          "text": [
            "Number and percentage of missing values for each variable:\n",
            "           Number of missing values  Percentage (%)\n",
            "Age                               0             0.0\n",
            "Alb                               0             0.0\n",
            "eGFR                              0             0.0\n",
            "T-chol                            0             0.0\n",
            "IgG                               0             0.0\n",
            "C3                                0             0.0\n",
            "UP/day                            0             0.0\n",
            "Urine RBC                         0             0.0\n"
          ]
        }
      ]
    },
    {
      "cell_type": "code",
      "source": [
        "imputed_df = pd.concat([df[['ID', 'Diagnosis']], imputed_df], axis=1)"
      ],
      "metadata": {
        "id": "zxtnIgzrrn7x"
      },
      "execution_count": 31,
      "outputs": []
    },
    {
      "cell_type": "code",
      "source": [
        "imputed_df.to_csv('data/MICE_data.csv', index=False)"
      ],
      "metadata": {
        "id": "y-5hVuKjsWGR"
      },
      "execution_count": 30,
      "outputs": []
    }
  ]
}