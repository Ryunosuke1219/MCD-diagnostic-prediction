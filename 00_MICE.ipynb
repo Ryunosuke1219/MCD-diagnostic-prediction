{
  "nbformat": 4,
  "nbformat_minor": 0,
  "metadata": {
    "colab": {
      "provenance": []
    },
    "kernelspec": {
      "name": "python3",
      "display_name": "Python 3"
    },
    "language_info": {
      "name": "python"
    }
  },
  "cells": [
    {
      "cell_type": "markdown",
      "source": [
        "This script performs Multiple Imputation by Chained Equations (MICE) on a dataset. The final datasets are saved as CSV files.\n"
      ],
      "metadata": {
        "id": "lfMa6phNnGjX"
      }
    },
    {
      "cell_type": "markdown",
      "source": [
        "As the dataset is not publicly available, please employ your own data as appropriate when working with this code."
      ],
      "metadata": {
        "id": "Ybik6FB3nfW2"
      }
    },
    {
      "cell_type": "code",
      "source": [
        "import pandas as pd\n",
        "from sklearn.experimental import enable_iterative_imputer\n",
        "from sklearn.impute import IterativeImputer"
      ],
      "metadata": {
        "id": "OBjULLIcdqOl"
      },
      "execution_count": null,
      "outputs": []
    },
    {
      "cell_type": "code",
      "source": [
        "data_path = 'data/your_own_data.csv'\n",
        "df = pd.read_csv(data_path)"
      ],
      "metadata": {
        "id": "eHzURS-rkM5f"
      },
      "execution_count": null,
      "outputs": []
    },
    {
      "cell_type": "code",
      "source": [
        "# Display column names\n",
        "print(\"変数名:\")\n",
        "print(df.columns.tolist())"
      ],
      "metadata": {
        "colab": {
          "base_uri": "https://localhost:8080/"
        },
        "id": "3d8l6XeBylvP",
        "outputId": "ceacb2b5-5d86-454c-c799-2061f6b091ef"
      },
      "execution_count": null,
      "outputs": [
        {
          "output_type": "stream",
          "name": "stdout",
          "text": [
            "変数名:\n",
            "['ID', 'Diagnosis', 'Age', 'Alb', 'eGFR', 'T-chol', 'IgG', 'C3', 'UP/day', 'Urine RBC']\n"
          ]
        }
      ]
    },
    {
      "cell_type": "code",
      "source": [
        "df.shape"
      ],
      "metadata": {
        "colab": {
          "base_uri": "https://localhost:8080/"
        },
        "id": "_rfVGSxXEyUE",
        "outputId": "5799daa0-7b1a-4bb9-82c7-949855ab4f3e"
      },
      "execution_count": null,
      "outputs": [
        {
          "output_type": "execute_result",
          "data": {
            "text/plain": [
              "(248, 10)"
            ]
          },
          "metadata": {},
          "execution_count": 11
        }
      ]
    },
    {
      "cell_type": "code",
      "source": [
        "# Display the number and percentage of missing values for each column\n",
        "missing_data = df.isnull().sum()\n",
        "missing_percentage = (missing_data / len(df)) * 100\n",
        "missing_info = pd.DataFrame({'欠損値の数': missing_data, '割合 (%)': missing_percentage})\n",
        "print(\"各変数の欠損値の数と割合:\")\n",
        "print(missing_info)"
      ],
      "metadata": {
        "colab": {
          "base_uri": "https://localhost:8080/"
        },
        "id": "9pVvLFiyyltV",
        "outputId": "87cb0cc3-8012-433f-8e15-67a47136b065"
      },
      "execution_count": null,
      "outputs": [
        {
          "output_type": "stream",
          "name": "stdout",
          "text": [
            "各変数の欠損値の数と割合:\n",
            "            欠損値の数     割合 (%)\n",
            "Unnamed: 0      0   0.000000\n",
            "ID              0   0.000000\n",
            "Diagnosis       0   0.000000\n",
            "Age             0   0.000000\n",
            "Alb            11   4.435484\n",
            "eGFR            0   0.000000\n",
            "T-chol         20   8.064516\n",
            "IgG            12   4.838710\n",
            "C3             19   7.661290\n",
            "UP/day         41  16.532258\n",
            "Urine RBC       0   0.000000\n"
          ]
        }
      ]
    },
    {
      "cell_type": "code",
      "source": [
        "# Columns to keep for imputation\n",
        "columns_to_keep = [\n",
        "    'Age',  'Alb', 'eGFR', 'T-chol', 'IgG',\n",
        "    'C3', 'UP/day', 'Urine RBC'\n",
        "]\n",
        "filtered_df = df[columns_to_keep]\n",
        "\n",
        "# Create an instance of IterativeImputer\n",
        "imputer = IterativeImputer(max_iter=10, random_state=0)\n",
        "\n",
        "# Perform imputation\n",
        "filtered_df = imputer.fit_transform(filtered_df)\n",
        "\n",
        "# Create a DataFrame with the imputed data\n",
        "imputed_df = pd.DataFrame(filtered_df, columns=columns_to_keep)"
      ],
      "metadata": {
        "id": "1kR9CvXrQ8sJ"
      },
      "execution_count": null,
      "outputs": []
    },
    {
      "cell_type": "code",
      "source": [
        "imputed_df.shape"
      ],
      "metadata": {
        "colab": {
          "base_uri": "https://localhost:8080/"
        },
        "id": "bMsLQS0SsEIo",
        "outputId": "6aad50b6-4e61-4844-c420-34bd949ef592"
      },
      "execution_count": null,
      "outputs": [
        {
          "output_type": "execute_result",
          "data": {
            "text/plain": [
              "(248, 8)"
            ]
          },
          "metadata": {},
          "execution_count": 13
        }
      ]
    },
    {
      "cell_type": "code",
      "source": [
        "# Display the number and percentage of missing values after imputation\n",
        "missing_data = imputed_df.isnull().sum()\n",
        "missing_percentage = (missing_data / len(imputed_df)) * 100\n",
        "missing_info = pd.DataFrame({'欠損値の数': missing_data, '割合 (%)': missing_percentage})\n",
        "print(\"各変数の欠損値の数と割合:\")\n",
        "print(missing_info)"
      ],
      "metadata": {
        "colab": {
          "base_uri": "https://localhost:8080/"
        },
        "id": "C7dqdaqTrcEE",
        "outputId": "e7302529-cddf-42c7-8a95-7a385255bbd8"
      },
      "execution_count": null,
      "outputs": [
        {
          "output_type": "stream",
          "name": "stdout",
          "text": [
            "各変数の欠損値の数と割合:\n",
            "           欠損値の数  割合 (%)\n",
            "Age            0     0.0\n",
            "Alb            0     0.0\n",
            "eGFR           0     0.0\n",
            "T-chol         0     0.0\n",
            "IgG            0     0.0\n",
            "C3             0     0.0\n",
            "UP/day         0     0.0\n",
            "Urine RBC      0     0.0\n"
          ]
        }
      ]
    },
    {
      "cell_type": "code",
      "source": [
        "# Concatenate the imputed data with ID and Diagnosis columns\n",
        "imputed_df = pd.concat([df[['ID', 'Diagnosis']], imputed_df], axis=1)\n",
        "\n",
        "imputed_df.head()"
      ],
      "metadata": {
        "colab": {
          "base_uri": "https://localhost:8080/",
          "height": 206
        },
        "id": "zxtnIgzrrn7x",
        "outputId": "bf25427b-3f01-48cf-8859-117c8717112d"
      },
      "execution_count": null,
      "outputs": [
        {
          "output_type": "execute_result",
          "data": {
            "text/plain": [
              "   ID  Diagnosis   Age  Alb       eGFR  T-chol     IgG     C3  UP/day  \\\n",
              "0   1          1  31.0  1.9  63.964117   497.0   345.0  120.0    6.00   \n",
              "1   2          0  52.0  1.7  86.983225   307.0   526.0  129.0    6.55   \n",
              "2   3          1  26.0  1.9  62.384988   630.0   352.0  178.0    6.20   \n",
              "3   4          0  26.0  2.6  94.945046   182.0   615.0   37.0    5.06   \n",
              "4   5          0  45.0  2.5  77.027706   231.0  1075.0   43.0    3.00   \n",
              "\n",
              "   Urine RBC  \n",
              "0        0.0  \n",
              "1       15.0  \n",
              "2        2.5  \n",
              "3        7.5  \n",
              "4        2.5  "
            ],
            "text/html": [
              "\n",
              "  <div id=\"df-121b783f-b344-44ea-bee6-67c1e2081c68\" class=\"colab-df-container\">\n",
              "    <div>\n",
              "<style scoped>\n",
              "    .dataframe tbody tr th:only-of-type {\n",
              "        vertical-align: middle;\n",
              "    }\n",
              "\n",
              "    .dataframe tbody tr th {\n",
              "        vertical-align: top;\n",
              "    }\n",
              "\n",
              "    .dataframe thead th {\n",
              "        text-align: right;\n",
              "    }\n",
              "</style>\n",
              "<table border=\"1\" class=\"dataframe\">\n",
              "  <thead>\n",
              "    <tr style=\"text-align: right;\">\n",
              "      <th></th>\n",
              "      <th>ID</th>\n",
              "      <th>Diagnosis</th>\n",
              "      <th>Age</th>\n",
              "      <th>Alb</th>\n",
              "      <th>eGFR</th>\n",
              "      <th>T-chol</th>\n",
              "      <th>IgG</th>\n",
              "      <th>C3</th>\n",
              "      <th>UP/day</th>\n",
              "      <th>Urine RBC</th>\n",
              "    </tr>\n",
              "  </thead>\n",
              "  <tbody>\n",
              "    <tr>\n",
              "      <th>0</th>\n",
              "      <td>1</td>\n",
              "      <td>1</td>\n",
              "      <td>31.0</td>\n",
              "      <td>1.9</td>\n",
              "      <td>63.964117</td>\n",
              "      <td>497.0</td>\n",
              "      <td>345.0</td>\n",
              "      <td>120.0</td>\n",
              "      <td>6.00</td>\n",
              "      <td>0.0</td>\n",
              "    </tr>\n",
              "    <tr>\n",
              "      <th>1</th>\n",
              "      <td>2</td>\n",
              "      <td>0</td>\n",
              "      <td>52.0</td>\n",
              "      <td>1.7</td>\n",
              "      <td>86.983225</td>\n",
              "      <td>307.0</td>\n",
              "      <td>526.0</td>\n",
              "      <td>129.0</td>\n",
              "      <td>6.55</td>\n",
              "      <td>15.0</td>\n",
              "    </tr>\n",
              "    <tr>\n",
              "      <th>2</th>\n",
              "      <td>3</td>\n",
              "      <td>1</td>\n",
              "      <td>26.0</td>\n",
              "      <td>1.9</td>\n",
              "      <td>62.384988</td>\n",
              "      <td>630.0</td>\n",
              "      <td>352.0</td>\n",
              "      <td>178.0</td>\n",
              "      <td>6.20</td>\n",
              "      <td>2.5</td>\n",
              "    </tr>\n",
              "    <tr>\n",
              "      <th>3</th>\n",
              "      <td>4</td>\n",
              "      <td>0</td>\n",
              "      <td>26.0</td>\n",
              "      <td>2.6</td>\n",
              "      <td>94.945046</td>\n",
              "      <td>182.0</td>\n",
              "      <td>615.0</td>\n",
              "      <td>37.0</td>\n",
              "      <td>5.06</td>\n",
              "      <td>7.5</td>\n",
              "    </tr>\n",
              "    <tr>\n",
              "      <th>4</th>\n",
              "      <td>5</td>\n",
              "      <td>0</td>\n",
              "      <td>45.0</td>\n",
              "      <td>2.5</td>\n",
              "      <td>77.027706</td>\n",
              "      <td>231.0</td>\n",
              "      <td>1075.0</td>\n",
              "      <td>43.0</td>\n",
              "      <td>3.00</td>\n",
              "      <td>2.5</td>\n",
              "    </tr>\n",
              "  </tbody>\n",
              "</table>\n",
              "</div>\n",
              "    <div class=\"colab-df-buttons\">\n",
              "\n",
              "  <div class=\"colab-df-container\">\n",
              "    <button class=\"colab-df-convert\" onclick=\"convertToInteractive('df-121b783f-b344-44ea-bee6-67c1e2081c68')\"\n",
              "            title=\"Convert this dataframe to an interactive table.\"\n",
              "            style=\"display:none;\">\n",
              "\n",
              "  <svg xmlns=\"http://www.w3.org/2000/svg\" height=\"24px\" viewBox=\"0 -960 960 960\">\n",
              "    <path d=\"M120-120v-720h720v720H120Zm60-500h600v-160H180v160Zm220 220h160v-160H400v160Zm0 220h160v-160H400v160ZM180-400h160v-160H180v160Zm440 0h160v-160H620v160ZM180-180h160v-160H180v160Zm440 0h160v-160H620v160Z\"/>\n",
              "  </svg>\n",
              "    </button>\n",
              "\n",
              "  <style>\n",
              "    .colab-df-container {\n",
              "      display:flex;\n",
              "      gap: 12px;\n",
              "    }\n",
              "\n",
              "    .colab-df-convert {\n",
              "      background-color: #E8F0FE;\n",
              "      border: none;\n",
              "      border-radius: 50%;\n",
              "      cursor: pointer;\n",
              "      display: none;\n",
              "      fill: #1967D2;\n",
              "      height: 32px;\n",
              "      padding: 0 0 0 0;\n",
              "      width: 32px;\n",
              "    }\n",
              "\n",
              "    .colab-df-convert:hover {\n",
              "      background-color: #E2EBFA;\n",
              "      box-shadow: 0px 1px 2px rgba(60, 64, 67, 0.3), 0px 1px 3px 1px rgba(60, 64, 67, 0.15);\n",
              "      fill: #174EA6;\n",
              "    }\n",
              "\n",
              "    .colab-df-buttons div {\n",
              "      margin-bottom: 4px;\n",
              "    }\n",
              "\n",
              "    [theme=dark] .colab-df-convert {\n",
              "      background-color: #3B4455;\n",
              "      fill: #D2E3FC;\n",
              "    }\n",
              "\n",
              "    [theme=dark] .colab-df-convert:hover {\n",
              "      background-color: #434B5C;\n",
              "      box-shadow: 0px 1px 3px 1px rgba(0, 0, 0, 0.15);\n",
              "      filter: drop-shadow(0px 1px 2px rgba(0, 0, 0, 0.3));\n",
              "      fill: #FFFFFF;\n",
              "    }\n",
              "  </style>\n",
              "\n",
              "    <script>\n",
              "      const buttonEl =\n",
              "        document.querySelector('#df-121b783f-b344-44ea-bee6-67c1e2081c68 button.colab-df-convert');\n",
              "      buttonEl.style.display =\n",
              "        google.colab.kernel.accessAllowed ? 'block' : 'none';\n",
              "\n",
              "      async function convertToInteractive(key) {\n",
              "        const element = document.querySelector('#df-121b783f-b344-44ea-bee6-67c1e2081c68');\n",
              "        const dataTable =\n",
              "          await google.colab.kernel.invokeFunction('convertToInteractive',\n",
              "                                                    [key], {});\n",
              "        if (!dataTable) return;\n",
              "\n",
              "        const docLinkHtml = 'Like what you see? Visit the ' +\n",
              "          '<a target=\"_blank\" href=https://colab.research.google.com/notebooks/data_table.ipynb>data table notebook</a>'\n",
              "          + ' to learn more about interactive tables.';\n",
              "        element.innerHTML = '';\n",
              "        dataTable['output_type'] = 'display_data';\n",
              "        await google.colab.output.renderOutput(dataTable, element);\n",
              "        const docLink = document.createElement('div');\n",
              "        docLink.innerHTML = docLinkHtml;\n",
              "        element.appendChild(docLink);\n",
              "      }\n",
              "    </script>\n",
              "  </div>\n",
              "\n",
              "\n",
              "<div id=\"df-cb1bb214-17eb-4d17-8a1f-0c0ddbf9ba29\">\n",
              "  <button class=\"colab-df-quickchart\" onclick=\"quickchart('df-cb1bb214-17eb-4d17-8a1f-0c0ddbf9ba29')\"\n",
              "            title=\"Suggest charts\"\n",
              "            style=\"display:none;\">\n",
              "\n",
              "<svg xmlns=\"http://www.w3.org/2000/svg\" height=\"24px\"viewBox=\"0 0 24 24\"\n",
              "     width=\"24px\">\n",
              "    <g>\n",
              "        <path d=\"M19 3H5c-1.1 0-2 .9-2 2v14c0 1.1.9 2 2 2h14c1.1 0 2-.9 2-2V5c0-1.1-.9-2-2-2zM9 17H7v-7h2v7zm4 0h-2V7h2v10zm4 0h-2v-4h2v4z\"/>\n",
              "    </g>\n",
              "</svg>\n",
              "  </button>\n",
              "\n",
              "<style>\n",
              "  .colab-df-quickchart {\n",
              "      --bg-color: #E8F0FE;\n",
              "      --fill-color: #1967D2;\n",
              "      --hover-bg-color: #E2EBFA;\n",
              "      --hover-fill-color: #174EA6;\n",
              "      --disabled-fill-color: #AAA;\n",
              "      --disabled-bg-color: #DDD;\n",
              "  }\n",
              "\n",
              "  [theme=dark] .colab-df-quickchart {\n",
              "      --bg-color: #3B4455;\n",
              "      --fill-color: #D2E3FC;\n",
              "      --hover-bg-color: #434B5C;\n",
              "      --hover-fill-color: #FFFFFF;\n",
              "      --disabled-bg-color: #3B4455;\n",
              "      --disabled-fill-color: #666;\n",
              "  }\n",
              "\n",
              "  .colab-df-quickchart {\n",
              "    background-color: var(--bg-color);\n",
              "    border: none;\n",
              "    border-radius: 50%;\n",
              "    cursor: pointer;\n",
              "    display: none;\n",
              "    fill: var(--fill-color);\n",
              "    height: 32px;\n",
              "    padding: 0;\n",
              "    width: 32px;\n",
              "  }\n",
              "\n",
              "  .colab-df-quickchart:hover {\n",
              "    background-color: var(--hover-bg-color);\n",
              "    box-shadow: 0 1px 2px rgba(60, 64, 67, 0.3), 0 1px 3px 1px rgba(60, 64, 67, 0.15);\n",
              "    fill: var(--button-hover-fill-color);\n",
              "  }\n",
              "\n",
              "  .colab-df-quickchart-complete:disabled,\n",
              "  .colab-df-quickchart-complete:disabled:hover {\n",
              "    background-color: var(--disabled-bg-color);\n",
              "    fill: var(--disabled-fill-color);\n",
              "    box-shadow: none;\n",
              "  }\n",
              "\n",
              "  .colab-df-spinner {\n",
              "    border: 2px solid var(--fill-color);\n",
              "    border-color: transparent;\n",
              "    border-bottom-color: var(--fill-color);\n",
              "    animation:\n",
              "      spin 1s steps(1) infinite;\n",
              "  }\n",
              "\n",
              "  @keyframes spin {\n",
              "    0% {\n",
              "      border-color: transparent;\n",
              "      border-bottom-color: var(--fill-color);\n",
              "      border-left-color: var(--fill-color);\n",
              "    }\n",
              "    20% {\n",
              "      border-color: transparent;\n",
              "      border-left-color: var(--fill-color);\n",
              "      border-top-color: var(--fill-color);\n",
              "    }\n",
              "    30% {\n",
              "      border-color: transparent;\n",
              "      border-left-color: var(--fill-color);\n",
              "      border-top-color: var(--fill-color);\n",
              "      border-right-color: var(--fill-color);\n",
              "    }\n",
              "    40% {\n",
              "      border-color: transparent;\n",
              "      border-right-color: var(--fill-color);\n",
              "      border-top-color: var(--fill-color);\n",
              "    }\n",
              "    60% {\n",
              "      border-color: transparent;\n",
              "      border-right-color: var(--fill-color);\n",
              "    }\n",
              "    80% {\n",
              "      border-color: transparent;\n",
              "      border-right-color: var(--fill-color);\n",
              "      border-bottom-color: var(--fill-color);\n",
              "    }\n",
              "    90% {\n",
              "      border-color: transparent;\n",
              "      border-bottom-color: var(--fill-color);\n",
              "    }\n",
              "  }\n",
              "</style>\n",
              "\n",
              "  <script>\n",
              "    async function quickchart(key) {\n",
              "      const quickchartButtonEl =\n",
              "        document.querySelector('#' + key + ' button');\n",
              "      quickchartButtonEl.disabled = true;  // To prevent multiple clicks.\n",
              "      quickchartButtonEl.classList.add('colab-df-spinner');\n",
              "      try {\n",
              "        const charts = await google.colab.kernel.invokeFunction(\n",
              "            'suggestCharts', [key], {});\n",
              "      } catch (error) {\n",
              "        console.error('Error during call to suggestCharts:', error);\n",
              "      }\n",
              "      quickchartButtonEl.classList.remove('colab-df-spinner');\n",
              "      quickchartButtonEl.classList.add('colab-df-quickchart-complete');\n",
              "    }\n",
              "    (() => {\n",
              "      let quickchartButtonEl =\n",
              "        document.querySelector('#df-cb1bb214-17eb-4d17-8a1f-0c0ddbf9ba29 button');\n",
              "      quickchartButtonEl.style.display =\n",
              "        google.colab.kernel.accessAllowed ? 'block' : 'none';\n",
              "    })();\n",
              "  </script>\n",
              "</div>\n",
              "\n",
              "    </div>\n",
              "  </div>\n"
            ],
            "application/vnd.google.colaboratory.intrinsic+json": {
              "type": "dataframe",
              "variable_name": "imputed_df",
              "summary": "{\n  \"name\": \"imputed_df\",\n  \"rows\": 248,\n  \"fields\": [\n    {\n      \"column\": \"ID\",\n      \"properties\": {\n        \"dtype\": \"number\",\n        \"std\": 71,\n        \"min\": 1,\n        \"max\": 248,\n        \"num_unique_values\": 248,\n        \"samples\": [\n          34,\n          7,\n          183\n        ],\n        \"semantic_type\": \"\",\n        \"description\": \"\"\n      }\n    },\n    {\n      \"column\": \"Diagnosis\",\n      \"properties\": {\n        \"dtype\": \"number\",\n        \"std\": 0,\n        \"min\": 0,\n        \"max\": 1,\n        \"num_unique_values\": 2,\n        \"samples\": [\n          0,\n          1\n        ],\n        \"semantic_type\": \"\",\n        \"description\": \"\"\n      }\n    },\n    {\n      \"column\": \"Age\",\n      \"properties\": {\n        \"dtype\": \"number\",\n        \"std\": 18.93579123328105,\n        \"min\": 18.0,\n        \"max\": 89.0,\n        \"num_unique_values\": 68,\n        \"samples\": [\n          63.0,\n          82.0\n        ],\n        \"semantic_type\": \"\",\n        \"description\": \"\"\n      }\n    },\n    {\n      \"column\": \"Alb\",\n      \"properties\": {\n        \"dtype\": \"number\",\n        \"std\": 0.7661235315234785,\n        \"min\": 0.6,\n        \"max\": 4.6,\n        \"num_unique_values\": 49,\n        \"samples\": [\n          2.2,\n          1.2\n        ],\n        \"semantic_type\": \"\",\n        \"description\": \"\"\n      }\n    },\n    {\n      \"column\": \"eGFR\",\n      \"properties\": {\n        \"dtype\": \"number\",\n        \"std\": 28.81679920802176,\n        \"min\": 5.243794214,\n        \"max\": 158.7544204,\n        \"num_unique_values\": 246,\n        \"samples\": [\n          50.58018782,\n          21.04998067\n        ],\n        \"semantic_type\": \"\",\n        \"description\": \"\"\n      }\n    },\n    {\n      \"column\": \"T-chol\",\n      \"properties\": {\n        \"dtype\": \"number\",\n        \"std\": 130.31859044194147,\n        \"min\": 99.0,\n        \"max\": 856.0,\n        \"num_unique_values\": 194,\n        \"samples\": [\n          323.0,\n          433.0\n        ],\n        \"semantic_type\": \"\",\n        \"description\": \"\"\n      }\n    },\n    {\n      \"column\": \"IgG\",\n      \"properties\": {\n        \"dtype\": \"number\",\n        \"std\": 502.9091555211299,\n        \"min\": 119.0,\n        \"max\": 2633.0,\n        \"num_unique_values\": 227,\n        \"samples\": [\n          466.0,\n          205.0\n        ],\n        \"semantic_type\": \"\",\n        \"description\": \"\"\n      }\n    },\n    {\n      \"column\": \"C3\",\n      \"properties\": {\n        \"dtype\": \"number\",\n        \"std\": 36.275165969444124,\n        \"min\": 16.0,\n        \"max\": 202.0,\n        \"num_unique_values\": 131,\n        \"samples\": [\n          88.0,\n          125.0\n        ],\n        \"semantic_type\": \"\",\n        \"description\": \"\"\n      }\n    },\n    {\n      \"column\": \"UP/day\",\n      \"properties\": {\n        \"dtype\": \"number\",\n        \"std\": 3.3355992529382013,\n        \"min\": 0.104,\n        \"max\": 20.1,\n        \"num_unique_values\": 244,\n        \"samples\": [\n          0.428,\n          5.5739\n        ],\n        \"semantic_type\": \"\",\n        \"description\": \"\"\n      }\n    },\n    {\n      \"column\": \"Urine RBC\",\n      \"properties\": {\n        \"dtype\": \"number\",\n        \"std\": 26.20552352532295,\n        \"min\": 0.0,\n        \"max\": 100.0,\n        \"num_unique_values\": 8,\n        \"samples\": [\n          15.0,\n          25.0\n        ],\n        \"semantic_type\": \"\",\n        \"description\": \"\"\n      }\n    }\n  ]\n}"
            }
          },
          "metadata": {},
          "execution_count": 15
        }
      ]
    },
    {
      "cell_type": "code",
      "source": [
        "imputed_df.shape"
      ],
      "metadata": {
        "colab": {
          "base_uri": "https://localhost:8080/"
        },
        "id": "LnFPT0q1uQB9",
        "outputId": "c1a082d9-c24f-4242-9e09-5d6b08e8dfa1"
      },
      "execution_count": null,
      "outputs": [
        {
          "output_type": "execute_result",
          "data": {
            "text/plain": [
              "(248, 10)"
            ]
          },
          "metadata": {},
          "execution_count": 16
        }
      ]
    },
    {
      "cell_type": "code",
      "source": [
        "imputed_df.to_csv('data/MICE_data.csv', index=False)"
      ],
      "metadata": {
        "id": "y-5hVuKjsWGR"
      },
      "execution_count": null,
      "outputs": []
    }
  ]
}